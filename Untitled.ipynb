{
 "cells": [
  {
   "cell_type": "code",
   "execution_count": 5,
   "id": "234fb76c-75cb-424e-96f9-22513803e567",
   "metadata": {},
   "outputs": [],
   "source": [
    "import pandas as pd\n",
    "import numpy as np\n",
    "from sklearn.model_selection import train_test_split\n",
    "\n",
    "data  = pd.read_csv(\"USA_Housing.csv\")\n",
    "\n",
    "y = data[\"Price\"]\n",
    "X = data.drop([\"Price\",\"Address\"],axis=1)"
   ]
  },
  {
   "cell_type": "code",
   "execution_count": 6,
   "id": "7a6dd981-2053-4c78-bd5d-9019c933bf57",
   "metadata": {},
   "outputs": [],
   "source": [
    "X_train, X_test, y_train, y_test = train_test_split(X, y, test_size=0.3,random_state=0)"
   ]
  },
  {
   "cell_type": "code",
   "execution_count": 7,
   "id": "1f06e878-aa92-4c4c-966a-c1be137aca57",
   "metadata": {},
   "outputs": [
    {
     "data": {
      "text/html": [
       "<div>\n",
       "<style scoped>\n",
       "    .dataframe tbody tr th:only-of-type {\n",
       "        vertical-align: middle;\n",
       "    }\n",
       "\n",
       "    .dataframe tbody tr th {\n",
       "        vertical-align: top;\n",
       "    }\n",
       "\n",
       "    .dataframe thead th {\n",
       "        text-align: right;\n",
       "    }\n",
       "</style>\n",
       "<table border=\"1\" class=\"dataframe\">\n",
       "  <thead>\n",
       "    <tr style=\"text-align: right;\">\n",
       "      <th></th>\n",
       "      <th>Avg. Area Income</th>\n",
       "      <th>Avg. Area House Age</th>\n",
       "      <th>Avg. Area Number of Rooms</th>\n",
       "      <th>Avg. Area Number of Bedrooms</th>\n",
       "      <th>Area Population</th>\n",
       "    </tr>\n",
       "  </thead>\n",
       "  <tbody>\n",
       "    <tr>\n",
       "      <th>398</th>\n",
       "      <td>61200.726175</td>\n",
       "      <td>5.299694</td>\n",
       "      <td>6.234615</td>\n",
       "      <td>4.23</td>\n",
       "      <td>42789.692217</td>\n",
       "    </tr>\n",
       "    <tr>\n",
       "      <th>3833</th>\n",
       "      <td>63380.814670</td>\n",
       "      <td>5.344664</td>\n",
       "      <td>6.001574</td>\n",
       "      <td>2.45</td>\n",
       "      <td>40217.333577</td>\n",
       "    </tr>\n",
       "    <tr>\n",
       "      <th>4836</th>\n",
       "      <td>71208.269301</td>\n",
       "      <td>5.300326</td>\n",
       "      <td>6.077989</td>\n",
       "      <td>4.01</td>\n",
       "      <td>25696.361741</td>\n",
       "    </tr>\n",
       "    <tr>\n",
       "      <th>4572</th>\n",
       "      <td>50343.763518</td>\n",
       "      <td>6.027468</td>\n",
       "      <td>5.160240</td>\n",
       "      <td>4.35</td>\n",
       "      <td>27445.876739</td>\n",
       "    </tr>\n",
       "    <tr>\n",
       "      <th>636</th>\n",
       "      <td>54535.453719</td>\n",
       "      <td>5.278065</td>\n",
       "      <td>6.871038</td>\n",
       "      <td>4.41</td>\n",
       "      <td>30852.207006</td>\n",
       "    </tr>\n",
       "    <tr>\n",
       "      <th>2545</th>\n",
       "      <td>77459.757856</td>\n",
       "      <td>4.282450</td>\n",
       "      <td>5.980079</td>\n",
       "      <td>4.48</td>\n",
       "      <td>37910.294982</td>\n",
       "    </tr>\n",
       "    <tr>\n",
       "      <th>1161</th>\n",
       "      <td>44088.274183</td>\n",
       "      <td>7.557643</td>\n",
       "      <td>5.581041</td>\n",
       "      <td>2.44</td>\n",
       "      <td>31032.920303</td>\n",
       "    </tr>\n",
       "    <tr>\n",
       "      <th>2230</th>\n",
       "      <td>58874.273843</td>\n",
       "      <td>6.342055</td>\n",
       "      <td>6.645742</td>\n",
       "      <td>2.11</td>\n",
       "      <td>19772.521662</td>\n",
       "    </tr>\n",
       "    <tr>\n",
       "      <th>148</th>\n",
       "      <td>90975.113272</td>\n",
       "      <td>4.740683</td>\n",
       "      <td>8.320352</td>\n",
       "      <td>6.45</td>\n",
       "      <td>44426.213648</td>\n",
       "    </tr>\n",
       "    <tr>\n",
       "      <th>2530</th>\n",
       "      <td>77825.227469</td>\n",
       "      <td>6.720493</td>\n",
       "      <td>7.425285</td>\n",
       "      <td>5.17</td>\n",
       "      <td>31439.971219</td>\n",
       "    </tr>\n",
       "  </tbody>\n",
       "</table>\n",
       "</div>"
      ],
      "text/plain": [
       "      Avg. Area Income  Avg. Area House Age  Avg. Area Number of Rooms  \\\n",
       "398       61200.726175             5.299694                   6.234615   \n",
       "3833      63380.814670             5.344664                   6.001574   \n",
       "4836      71208.269301             5.300326                   6.077989   \n",
       "4572      50343.763518             6.027468                   5.160240   \n",
       "636       54535.453719             5.278065                   6.871038   \n",
       "2545      77459.757856             4.282450                   5.980079   \n",
       "1161      44088.274183             7.557643                   5.581041   \n",
       "2230      58874.273843             6.342055                   6.645742   \n",
       "148       90975.113272             4.740683                   8.320352   \n",
       "2530      77825.227469             6.720493                   7.425285   \n",
       "\n",
       "      Avg. Area Number of Bedrooms  Area Population  \n",
       "398                           4.23     42789.692217  \n",
       "3833                          2.45     40217.333577  \n",
       "4836                          4.01     25696.361741  \n",
       "4572                          4.35     27445.876739  \n",
       "636                           4.41     30852.207006  \n",
       "2545                          4.48     37910.294982  \n",
       "1161                          2.44     31032.920303  \n",
       "2230                          2.11     19772.521662  \n",
       "148                           6.45     44426.213648  \n",
       "2530                          5.17     31439.971219  "
      ]
     },
     "execution_count": 7,
     "metadata": {},
     "output_type": "execute_result"
    }
   ],
   "source": [
    "X_test.head(10)"
   ]
  },
  {
   "cell_type": "code",
   "execution_count": 8,
   "id": "ca54fbd5-b6f7-494b-8700-cf45fc88e5d1",
   "metadata": {},
   "outputs": [
    {
     "name": "stdout",
     "output_type": "stream",
     "text": [
      "2.3554782546325907e+28\n"
     ]
    }
   ],
   "source": [
    "from LinearRegression import LinearRegression\n",
    "\n",
    "LR = LinearRegression(lr=0.01, n_iters=1000)\n",
    "\n",
    "LR.fit(X_train, y_train)\n",
    "predictions = LR.predict(X_test)\n",
    "\n",
    "def mse(y_true, y_predicted):\n",
    "    return np.mean((y_true - y_predicted) ** 2)\n",
    "\n",
    "mse_value = mse(y_test, predictions)\n",
    "print(mse_value)\n"
   ]
  },
  {
   "cell_type": "code",
   "execution_count": 9,
   "id": "b68b4783-5b3a-4919-86b1-a0218fa209b8",
   "metadata": {},
   "outputs": [
    {
     "name": "stdout",
     "output_type": "stream",
     "text": [
      "Predicted values  [1.45339105e+14 1.46754617e+14 1.46983827e+14]\n",
      "Real values       398     894251.068636\n",
      "3833    932979.360621\n",
      "4836    920747.911288\n",
      "Name: Price, dtype: float64\n"
     ]
    }
   ],
   "source": [
    "Y_pred = LR.predict(X_test)\n",
    "\n",
    "print(\"Predicted values \", np.round( Y_pred[:3], 2 ))\n",
    "\n",
    "print(\"Real values      \", y_test[:3])\n"
   ]
  },
  {
   "cell_type": "code",
   "execution_count": null,
   "id": "24dc4371-d5d1-4021-8a55-f6ab4bf8099a",
   "metadata": {},
   "outputs": [],
   "source": []
  }
 ],
 "metadata": {
  "kernelspec": {
   "display_name": "Python 3 (ipykernel)",
   "language": "python",
   "name": "python3"
  },
  "language_info": {
   "codemirror_mode": {
    "name": "ipython",
    "version": 3
   },
   "file_extension": ".py",
   "mimetype": "text/x-python",
   "name": "python",
   "nbconvert_exporter": "python",
   "pygments_lexer": "ipython3",
   "version": "3.9.6"
  }
 },
 "nbformat": 4,
 "nbformat_minor": 5
}
